{
 "cells": [
  {
   "cell_type": "code",
   "execution_count": 20,
   "metadata": {},
   "outputs": [],
   "source": [
    "import os\n",
    "from dotenv import load_dotenv\n",
    "\n",
    "load_dotenv()\n",
    "\n",
    "model_name = \"openai:gpt-4o-mini\""
   ]
  },
  {
   "cell_type": "code",
   "execution_count": 21,
   "metadata": {},
   "outputs": [],
   "source": [
    "system_prompt = \"\"\"\n",
    "You are tasked with processing a list of messages. Each message contains:\n",
    "\n",
    "Your goal is to:\n",
    "1. **Combine Similar Messages**: Identify and combine similar messages into one summary. \n",
    "   - Similar messages should be grouped together under a single title.\n",
    "   - Keep all details intact—do not add or remove information.\n",
    "\n",
    "2. **Create a Summary**: For each group of similar messages, write a concise summary that includes:\n",
    "   - **Title**: The title should summarize the theme of the combined messages. It should be clear, concise, and relevant to the content.\n",
    "   - **Content**: The content should be a rewritten, coherent summary of the combined messages, preserving all key points. Ensure the text flows naturally.\n",
    "   - **Metadata**: Merge metadata from the similar messages into one dictionary. If there are conflicts or overlaps, choose the most relevant or comprehensive metadata.\n",
    "\n",
    "3. **Length Limit**: The **title** and **content** together should not exceed **1024 characters** in total.\n",
    "   - If the combined length exceeds this limit, **split the summary** into multiple entries, each containing its own title, content, and metadata.\n",
    "\n",
    "### **Instructions**:\n",
    "- Identify messages that are similar, based on the content or topic.\n",
    "- When combining them:\n",
    "  - Keep the content intact.\n",
    "  - Do not add or infer new information.\n",
    "  - Only merge messages that share the same theme or subject.\n",
    "\n",
    "### **Output Format**:\n",
    "Your response should be a list of summaries, where each summary is represented as a dictionary with the following fields:\n",
    "```json\n",
    "[\n",
    "  {\n",
    "    \"title\": \"Title of the Combined Summary\",\n",
    "    \"content\": \"The full, rewritten text of the combined summary\",\n",
    "    \"metadata\": { \n",
    "      \"key1\": \"value1\", \n",
    "      \"key2\": \"value2\" \n",
    "    }\n",
    "  },\n",
    "  {\n",
    "    \"title\": \"Title of the Another Combined Summary\",\n",
    "    \"content\": \"The full, rewritten text of the another combined summary\",\n",
    "    \"metadata\": {\n",
    "      \"key1\": \"value1\", \n",
    "      \"key2\": \"value2\" \n",
    "    }\n",
    "  }\n",
    "]\n",
    "\n",
    "DOUBLE CHECK YOUR ANSWER!!!\n",
    "\"\"\""
   ]
  },
  {
   "cell_type": "code",
   "execution_count": 22,
   "metadata": {},
   "outputs": [],
   "source": [
    "from pydantic import BaseModel, Field\n",
    "\n",
    "\n",
    "class SummaryDto(BaseModel):\n",
    "    \"\"\"Represents a user with personal details such as id, username, first name, last name, email, password, phone, and user status.\"\"\"\n",
    "\n",
    "    title: str = Field(\n",
    "        ..., description=\"News title\", example=\"Rosneft announced dividend payment\"\n",
    "    )\n",
    "    content: str = Field(\n",
    "        ...,\n",
    "        description=\"News text\",\n",
    "        example=\"A robotic dog with a rabbit and a minigun is a new word in home security. A Chinese enthusiast has created an unusual hybrid, where a cute animal has become part of the combat system. Now this mecha-hare not only looks threatening, but also effectively performs its task, monitoring the yard.\",\n",
    "    )\n",
    "    metadata: dict = Field(\n",
    "        ...,\n",
    "        description=\"Metadata\",\n",
    "        example={\"source\": \"https://www.google.com\"},\n",
    "    )"
   ]
  },
  {
   "cell_type": "code",
   "execution_count": 23,
   "metadata": {},
   "outputs": [],
   "source": [
    "from typing import List\n",
    "from pydantic_ai import Agent\n",
    "\n",
    "\n",
    "agent = Agent(\n",
    "    model=model_name,\n",
    "    deps_type=List[str],\n",
    "    output_type=List[SummaryDto],\n",
    "    system_prompt=system_prompt,\n",
    "    verbose=True\n",
    ")"
   ]
  },
  {
   "cell_type": "code",
   "execution_count": 24,
   "metadata": {},
   "outputs": [],
   "source": [
    "from typing import Any, Dict\n",
    "\n",
    "\n",
    "class Message(BaseModel):\n",
    "    content: str = Field(..., description=\"The text content of the message\")\n",
    "    metadata: Dict[str, Any] = Field(\n",
    "        default_factory=dict,\n",
    "        description=\"Additional metadata about the message (e.g., timestamp, author, etc.)\",\n",
    "    )"
   ]
  },
  {
   "cell_type": "code",
   "execution_count": 25,
   "metadata": {},
   "outputs": [],
   "source": [
    "messages: List[Message] = []\n"
   ]
  },
  {
   "cell_type": "code",
   "execution_count": 26,
   "metadata": {},
   "outputs": [],
   "source": [
    "messages = [\n",
    "    Message(\n",
    "        content=\"Apple launches the new iPhone 15 with advanced features including better cameras, a faster processor, and longer battery life. The iPhone 15 is expected to set new records for sales worldwide.\",\n",
    "        metadata={\"timestamp\": \"2025-04-15T08:00:00Z\", \"author\": \"Tech News\"}\n",
    "    ),\n",
    "    Message(\n",
    "        content=\"Samsung's Galaxy S23 series has been well received, with improvements in screen quality, battery efficiency, and camera performance. Analysts believe the Galaxy S23 will compete fiercely with Apple's new iPhone 15 in the coming months.\",\n",
    "        metadata={\"timestamp\": \"2025-04-15T09:00:00Z\", \"author\": \"Gadget Review\"}\n",
    "    ),\n",
    "    Message(\n",
    "        content=\"The new iPhone 15 has been announced by Apple, showcasing features like improved battery life, upgraded cameras, and a faster chip. This new release has generated a lot of buzz in the tech community.\",\n",
    "        metadata={\"timestamp\": \"2025-04-15T08:30:00Z\", \"author\": \"Tech Buzz\"}\n",
    "    ),\n",
    "    Message(\n",
    "        content=\"Microsoft has released a major update to Windows 11, with a focus on security improvements and performance enhancements. The update is designed to make the user experience smoother and more secure, especially for business environments.\",\n",
    "        metadata={\"timestamp\": \"2025-04-15T10:00:00Z\", \"author\": \"Tech Review\"}\n",
    "    ),\n",
    "    Message(\n",
    "        content=\"Apple announces the iPhone 15 with new features. The improved camera and faster performance are the highlights, and it’s expected to be a major success in the smartphone market, surpassing previous iPhone models in sales.\",\n",
    "        metadata={\"timestamp\": \"2025-04-15T09:30:00Z\", \"author\": \"Gadget Watch\"}\n",
    "    ),\n",
    "    Message(\n",
    "        content=\"Sony PlayStation 5 continues to dominate the gaming market, with new exclusive games driving console sales. The PlayStation 5 is set to remain a strong competitor in the gaming industry for the foreseeable future.\",\n",
    "        metadata={\"timestamp\": \"2025-04-15T11:00:00Z\", \"author\": \"Gaming Weekly\"}\n",
    "    ),\n",
    "    Message(\n",
    "        content=\"Apple's new iPhone 15 features include an improved camera system, a larger battery, and faster processing speeds. These features are expected to appeal to both new buyers and loyal Apple fans.\",\n",
    "        metadata={\"timestamp\": \"2025-04-15T07:45:00Z\", \"author\": \"Tech World\"}\n",
    "    ),\n",
    "    Message(\n",
    "        content=\"Microsoft's latest move in cloud computing involves the expansion of Azure services into new international markets. This strategic move is designed to compete more effectively with Amazon Web Services and Google Cloud.\",\n",
    "        metadata={\"timestamp\": \"2025-04-15T12:00:00Z\", \"author\": \"Cloud Tech\"}\n",
    "    ),\n",
    "    Message(\n",
    "        content=\"Apple introduces a more powerful chip in the iPhone 15, offering significant performance gains. With an upgraded display and better battery optimization, this new iPhone is likely to appeal to tech enthusiasts and professionals alike.\",\n",
    "        metadata={\"timestamp\": \"2025-04-15T08:45:00Z\", \"author\": \"Tech Insights\"}\n",
    "    ),\n",
    "    Message(\n",
    "        content=\"Microsoft is pushing for greater security features in Windows 11. The latest update includes critical patches and enhancements to prevent cyber attacks, making it a safer platform for both personal and enterprise users.\",\n",
    "        metadata={\"timestamp\": \"2025-04-15T10:30:00Z\", \"author\": \"Security Daily\"}\n",
    "    ),\n",
    "]"
   ]
  },
  {
   "cell_type": "code",
   "execution_count": 27,
   "metadata": {},
   "outputs": [
    {
     "name": "stderr",
     "output_type": "stream",
     "text": [
      "C:\\Users\\abaghdasaryan\\AppData\\Local\\Temp\\ipykernel_19856\\2566462569.py:4: PydanticDeprecatedSince20: The `dict` method is deprecated; use `model_dump` instead. Deprecated in Pydantic V2.0 to be removed in V3.0. See Pydantic V2 Migration Guide at https://errors.pydantic.dev/2.11/migration/\n",
      "  messages_json = [json.dumps(message.dict()) for message in messages]\n"
     ]
    }
   ],
   "source": [
    "import json\n",
    "\n",
    "\n",
    "messages_json = [json.dumps(message.dict()) for message in messages]\n",
    "result = await agent.run(messages_json)"
   ]
  },
  {
   "cell_type": "code",
   "execution_count": 28,
   "metadata": {},
   "outputs": [
    {
     "data": {
      "text/plain": [
       "[SummaryDto(title='Apple Launches iPhone 15 With Advanced Features', content='Apple launches the new iPhone 15 with advanced features including improved camera systems, a faster processor, and longer battery life. This new release has generated a lot of buzz in the tech community, and it’s expected to set new records for sales worldwide, surpassing previous iPhone models. The iPhone 15 aims to appeal to both new buyers and loyal Apple fans.', metadata={'timestamp': '2025-04-15T08:00:00Z', 'author': 'Tech News'}),\n",
       " SummaryDto(title='Samsung Galaxy S23 Competes with iPhone 15', content=\"Samsung's Galaxy S23 series has been well received, boasting improvements in screen quality, battery efficiency, and camera performance. Analysts believe it will compete fiercely with Apple's new iPhone 15 in the coming months.\", metadata={'timestamp': '2025-04-15T09:00:00Z', 'author': 'Gadget Review'}),\n",
       " SummaryDto(title='Microsoft Introduces Major Windows 11 Update', content=\"Microsoft has released a major update to Windows 11, focusing on security improvements and performance enhancements to create a smoother, more secure user experience, particularly beneficial for business environments. Additionally, Microsoft's push for greater security features includes critical patches to prevent cyber attacks, making it a safer platform for both personal and enterprise users.\", metadata={'timestamp': '2025-04-15T10:00:00Z', 'author': 'Tech Review'}),\n",
       " SummaryDto(title='Sony PlayStation 5 Dominates Gaming Market', content='The Sony PlayStation 5 continues to dominate the gaming market, driven by new exclusive games that boost console sales. It is expected to remain a strong competitor in the gaming industry for the foreseeable future.', metadata={'timestamp': '2025-04-15T11:00:00Z', 'author': 'Gaming Weekly'}),\n",
       " SummaryDto(title='Microsoft Expands Azure Services Internationally', content='Microsoft is making strides in cloud computing by expanding Azure services into new international markets, aiming to compete more effectively with major players like Amazon Web Services and Google Cloud.', metadata={'timestamp': '2025-04-15T12:00:00Z', 'author': 'Cloud Tech'})]"
      ]
     },
     "execution_count": 28,
     "metadata": {},
     "output_type": "execute_result"
    }
   ],
   "source": [
    "result.output"
   ]
  },
  {
   "cell_type": "code",
   "execution_count": 30,
   "metadata": {},
   "outputs": [
    {
     "name": "stdout",
     "output_type": "stream",
     "text": [
      "\n",
      "TITLE: Apple Launches iPhone 15 With Advanced Features\n",
      "CONTENT: Apple launches the new iPhone 15 with advanced features including improved camera systems, a faster processor, and longer battery life. This new release has generated a lot of buzz in the tech community, and it’s expected to set new records for sales worldwide, surpassing previous iPhone models. The iPhone 15 aims to appeal to both new buyers and loyal Apple fans.\n",
      "METADATA: {'timestamp': '2025-04-15T08:00:00Z', 'author': 'Tech News'}\n",
      "\n",
      "\n",
      "TITLE: Samsung Galaxy S23 Competes with iPhone 15\n",
      "CONTENT: Samsung's Galaxy S23 series has been well received, boasting improvements in screen quality, battery efficiency, and camera performance. Analysts believe it will compete fiercely with Apple's new iPhone 15 in the coming months.\n",
      "METADATA: {'timestamp': '2025-04-15T09:00:00Z', 'author': 'Gadget Review'}\n",
      "\n",
      "\n",
      "TITLE: Microsoft Introduces Major Windows 11 Update\n",
      "CONTENT: Microsoft has released a major update to Windows 11, focusing on security improvements and performance enhancements to create a smoother, more secure user experience, particularly beneficial for business environments. Additionally, Microsoft's push for greater security features includes critical patches to prevent cyber attacks, making it a safer platform for both personal and enterprise users.\n",
      "METADATA: {'timestamp': '2025-04-15T10:00:00Z', 'author': 'Tech Review'}\n",
      "\n",
      "\n",
      "TITLE: Sony PlayStation 5 Dominates Gaming Market\n",
      "CONTENT: The Sony PlayStation 5 continues to dominate the gaming market, driven by new exclusive games that boost console sales. It is expected to remain a strong competitor in the gaming industry for the foreseeable future.\n",
      "METADATA: {'timestamp': '2025-04-15T11:00:00Z', 'author': 'Gaming Weekly'}\n",
      "\n",
      "\n",
      "TITLE: Microsoft Expands Azure Services Internationally\n",
      "CONTENT: Microsoft is making strides in cloud computing by expanding Azure services into new international markets, aiming to compete more effectively with major players like Amazon Web Services and Google Cloud.\n",
      "METADATA: {'timestamp': '2025-04-15T12:00:00Z', 'author': 'Cloud Tech'}\n",
      "\n"
     ]
    }
   ],
   "source": [
    "for summary in result.output:\n",
    "    print(f\"\"\"\n",
    "TITLE: {summary.title}\n",
    "CONTENT: {summary.content}\n",
    "METADATA: {summary.metadata}\n",
    "\"\"\")"
   ]
  }
 ],
 "metadata": {
  "kernelspec": {
   "display_name": "venv",
   "language": "python",
   "name": "python3"
  },
  "language_info": {
   "codemirror_mode": {
    "name": "ipython",
    "version": 3
   },
   "file_extension": ".py",
   "mimetype": "text/x-python",
   "name": "python",
   "nbconvert_exporter": "python",
   "pygments_lexer": "ipython3",
   "version": "3.12.1"
  }
 },
 "nbformat": 4,
 "nbformat_minor": 2
}
