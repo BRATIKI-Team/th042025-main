{
 "cells": [
  {
   "cell_type": "code",
   "execution_count": 63,
   "metadata": {},
   "outputs": [],
   "source": [
    "import os\n",
    "from dotenv import load_dotenv\n",
    "\n",
    "load_dotenv()\n",
    "\n",
    "model_name = \"openai:gpt-4o-mini\"\n"
   ]
  },
  {
   "cell_type": "code",
   "execution_count": 59,
   "metadata": {},
   "outputs": [],
   "source": [
    "system_prompt = \"\"\"\n",
    "You are an expert in finding Russian-language Telegram channels.\n",
    "Your primary task is to find up to 10 existing and active channels related to a given topic,\n",
    "and return them with some description.\n",
    "\n",
    "Key Requirements:\n",
    "1. Channel Verification:\n",
    "   - Verify the existence of each channel before including it\n",
    "   - Only include channels you have personally verified\n",
    "   - Ensure channels are currently active\n",
    "   - Only include channels with proven track record of reliability and trustworthiness\n",
    "   - Prioritize channels with established reputation and credibility\n",
    "\n",
    "2. Search Requirements:\n",
    "   - Focus on finding the most popular and relevant channels\n",
    "   - Prioritize channels with high subscriber counts and regular activity\n",
    "   - Ensure channels have a history of providing accurate and reliable information\n",
    "\n",
    "\n",
    "Response Format:\n",
    "- Up to 10 channel usernames\n",
    "- Urls are in @channelname format\n",
    "- Description is a brief description of the channel's content and focus area\n",
    "\n",
    "CHECK YOUR ANSWER BEFORE RETURNING IT!!!\n",
    "\"\"\""
   ]
  },
  {
   "cell_type": "code",
   "execution_count": 60,
   "metadata": {},
   "outputs": [],
   "source": [
    "from pydantic import BaseModel, Field\n",
    "\n",
    "\n",
    "class SourceGenerateResponse(BaseModel):\n",
    "    url: str = Field(\n",
    "        ...,\n",
    "        description=\"The URL of the Telegram channel in @channelname format\",\n",
    "        examples=[\"@python_ru\", \"@devops_ru\"]\n",
    "    )\n",
    "    description: str = Field(\n",
    "        ...,\n",
    "        description=\"Brief description of the channel's content and focus area\",\n",
    "        min_length=10,\n",
    "        max_length=200,\n",
    "        examples=[\"Channel where you can find actual news about Python programming and development\"]\n",
    "    )"
   ]
  },
  {
   "cell_type": "code",
   "execution_count": 61,
   "metadata": {},
   "outputs": [],
   "source": [
    "from typing import List\n",
    "from pydantic_ai import Agent\n",
    "from pydantic_ai.common_tools.duckduckgo import duckduckgo_search_tool\n",
    "\n",
    "\n",
    "tools = [duckduckgo_search_tool()]\n",
    "agent = Agent(\n",
    "    model=model_name,\n",
    "    tools=tools,\n",
    "    deps_type=str,\n",
    "    output_type=List[SourceGenerateResponse],\n",
    "    system_prompt=system_prompt,\n",
    "    retries=10\n",
    ")"
   ]
  },
  {
   "cell_type": "code",
   "execution_count": 62,
   "metadata": {},
   "outputs": [
    {
     "name": "stdout",
     "output_type": "stream",
     "text": [
      "AgentRunResult(output=[SourceGenerateResponse(url='@thehackernews', description='Official THN Telegram Channel, a trusted source for breaking news and tech coverage about cybersecurity and hacking.'), SourceGenerateResponse(url='@universityofkalilinux', description='Channel dedicated to learning offensive security and hacking using Kali Linux.'), SourceGenerateResponse(url='@HackersFeed', description='A comprehensive channel providing hacking news from over 100 sources, including exploits, new CVEs, and pentesting tutorials.'), SourceGenerateResponse(url='@cybersecuritychannel', description='Focuses on sharing information about cybersecurity threats, vulnerabilities, and protective measures.'), SourceGenerateResponse(url='@darkweb_now', description='Explores dark web activities including illicit markets, cybersecurity breaches, and hacker communities.'), SourceGenerateResponse(url='@hackingworld', description='Updates on global hacking news, tools, vulnerabilities, and community discussions.'), SourceGenerateResponse(url='@infosecdaily', description='Daily updates on information security, including hacks, threats, and useful security tips.'), SourceGenerateResponse(url='@ethicalhacking', description='Covers the latest trends in ethical hacking, including tutorials, tools, and networking opportunities.'), SourceGenerateResponse(url='@SecurityAffairs', description='Discussion of security incidents, trends in hacking, and analysis of cybersecurity events around the world.'), SourceGenerateResponse(url='@pentestersuntold', description='A community for penetration testers to share experiences, tools, and tactics in ethical hacking.')])\n",
      "[SourceGenerateResponse(url='@thehackernews', description='Official THN Telegram Channel, a trusted source for breaking news and tech coverage about cybersecurity and hacking.'), SourceGenerateResponse(url='@universityofkalilinux', description='Channel dedicated to learning offensive security and hacking using Kali Linux.'), SourceGenerateResponse(url='@HackersFeed', description='A comprehensive channel providing hacking news from over 100 sources, including exploits, new CVEs, and pentesting tutorials.'), SourceGenerateResponse(url='@cybersecuritychannel', description='Focuses on sharing information about cybersecurity threats, vulnerabilities, and protective measures.'), SourceGenerateResponse(url='@darkweb_now', description='Explores dark web activities including illicit markets, cybersecurity breaches, and hacker communities.'), SourceGenerateResponse(url='@hackingworld', description='Updates on global hacking news, tools, vulnerabilities, and community discussions.'), SourceGenerateResponse(url='@infosecdaily', description='Daily updates on information security, including hacks, threats, and useful security tips.'), SourceGenerateResponse(url='@ethicalhacking', description='Covers the latest trends in ethical hacking, including tutorials, tools, and networking opportunities.'), SourceGenerateResponse(url='@SecurityAffairs', description='Discussion of security incidents, trends in hacking, and analysis of cybersecurity events around the world.'), SourceGenerateResponse(url='@pentestersuntold', description='A community for penetration testers to share experiences, tools, and tactics in ethical hacking.')]\n",
      "\n",
      "    URL: @thehackernews\n",
      "    DESCRIPTION: Official THN Telegram Channel, a trusted source for breaking news and tech coverage about cybersecurity and hacking.\n",
      "\n",
      "    \n",
      "\n",
      "    URL: @universityofkalilinux\n",
      "    DESCRIPTION: Channel dedicated to learning offensive security and hacking using Kali Linux.\n",
      "\n",
      "    \n",
      "\n",
      "    URL: @HackersFeed\n",
      "    DESCRIPTION: A comprehensive channel providing hacking news from over 100 sources, including exploits, new CVEs, and pentesting tutorials.\n",
      "\n",
      "    \n",
      "\n",
      "    URL: @cybersecuritychannel\n",
      "    DESCRIPTION: Focuses on sharing information about cybersecurity threats, vulnerabilities, and protective measures.\n",
      "\n",
      "    \n",
      "\n",
      "    URL: @darkweb_now\n",
      "    DESCRIPTION: Explores dark web activities including illicit markets, cybersecurity breaches, and hacker communities.\n",
      "\n",
      "    \n",
      "\n",
      "    URL: @hackingworld\n",
      "    DESCRIPTION: Updates on global hacking news, tools, vulnerabilities, and community discussions.\n",
      "\n",
      "    \n",
      "\n",
      "    URL: @infosecdaily\n",
      "    DESCRIPTION: Daily updates on information security, including hacks, threats, and useful security tips.\n",
      "\n",
      "    \n",
      "\n",
      "    URL: @ethicalhacking\n",
      "    DESCRIPTION: Covers the latest trends in ethical hacking, including tutorials, tools, and networking opportunities.\n",
      "\n",
      "    \n",
      "\n",
      "    URL: @SecurityAffairs\n",
      "    DESCRIPTION: Discussion of security incidents, trends in hacking, and analysis of cybersecurity events around the world.\n",
      "\n",
      "    \n",
      "\n",
      "    URL: @pentestersuntold\n",
      "    DESCRIPTION: A community for penetration testers to share experiences, tools, and tactics in ethical hacking.\n",
      "\n",
      "    \n"
     ]
    }
   ],
   "source": [
    "\n",
    "\n",
    "result = await agent.run(\"Hacking\")\n",
    "print(result)\n",
    "print(result.output)\n",
    "for channel in result.output:\n",
    "    print(f\"\"\"\n",
    "    URL: {channel.url}\n",
    "    DESCRIPTION: {channel.description}\n",
    "\n",
    "    \"\"\")\n",
    "\n"
   ]
  }
 ],
 "metadata": {
  "kernelspec": {
   "display_name": "venv",
   "language": "python",
   "name": "python3"
  },
  "language_info": {
   "codemirror_mode": {
    "name": "ipython",
    "version": 3
   },
   "file_extension": ".py",
   "mimetype": "text/x-python",
   "name": "python",
   "nbconvert_exporter": "python",
   "pygments_lexer": "ipython3",
   "version": "3.12.1"
  }
 },
 "nbformat": 4,
 "nbformat_minor": 2
}
