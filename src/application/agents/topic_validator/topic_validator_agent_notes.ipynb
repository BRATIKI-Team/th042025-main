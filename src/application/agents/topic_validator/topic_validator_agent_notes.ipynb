{
 "cells": [
  {
   "cell_type": "code",
   "execution_count": 1,
   "metadata": {},
   "outputs": [],
   "source": [
    "import os\n",
    "from dotenv import load_dotenv\n",
    "\n",
    "load_dotenv()\n",
    "\n",
    "model_name = \"openai:gpt-4o-mini\""
   ]
  },
  {
   "cell_type": "code",
   "execution_count": 2,
   "metadata": {},
   "outputs": [],
   "source": [
    "system_prompt = \"\"\"\n",
    "You are a Topic Checker. You job is to decide if the provided topic has real meaning.\n",
    "\n",
    "Output:\n",
    "True/False\n",
    "\n",
    "Example\n",
    "topic: \"alksdjasdjas\"\n",
    "return: False\n",
    "\n",
    "topic: \"Programming IT devops\"\n",
    "return True\n",
    "\n",
    "topic: \"Russia\"\n",
    "return: True\n",
    "\n",
    "topic: \"\"\n",
    "return: False\n",
    "\"\"\""
   ]
  },
  {
   "cell_type": "code",
   "execution_count": 3,
   "metadata": {},
   "outputs": [],
   "source": [
    "from pydantic_ai import Agent\n",
    "\n",
    "\n",
    "agent = Agent(\n",
    "    model=model_name,\n",
    "    tools=[],  # No external tools needed for validation\n",
    "    deps_type=str,\n",
    "    output_type=str,\n",
    "    system_prompt=system_prompt,\n",
    "    retries=3  # Fewer retries as validation is simpler\n",
    ")"
   ]
  },
  {
   "cell_type": "code",
   "execution_count": 4,
   "metadata": {},
   "outputs": [],
   "source": [
    "result = await agent.run(\"Red cap buying in the Jumanji\")"
   ]
  },
  {
   "cell_type": "code",
   "execution_count": 5,
   "metadata": {},
   "outputs": [
    {
     "name": "stdout",
     "output_type": "stream",
     "text": [
      "AgentRunResult(output='False')\n"
     ]
    }
   ],
   "source": [
    "print(result)"
   ]
  },
  {
   "cell_type": "code",
   "execution_count": 6,
   "metadata": {},
   "outputs": [
    {
     "name": "stdout",
     "output_type": "stream",
     "text": [
      "AgentRunResult(output='True')\n"
     ]
    }
   ],
   "source": [
    "result2 = await agent.run(\"Hacking\")\n",
    "print(result2)\n"
   ]
  },
  {
   "cell_type": "code",
   "execution_count": 7,
   "metadata": {},
   "outputs": [
    {
     "name": "stdout",
     "output_type": "stream",
     "text": [
      "AgentRunResult(output='False')\n"
     ]
    }
   ],
   "source": [
    "result3 = await agent.run(\"abs\")\n",
    "print(result3)\n"
   ]
  },
  {
   "cell_type": "code",
   "execution_count": 8,
   "metadata": {},
   "outputs": [
    {
     "data": {
      "text/plain": [
       "AgentRunResult(output='True')"
      ]
     },
     "execution_count": 8,
     "metadata": {},
     "output_type": "execute_result"
    }
   ],
   "source": [
    "result4 = await agent.run(\"Programming IT Devops\")\n",
    "result4"
   ]
  }
 ],
 "metadata": {
  "kernelspec": {
   "display_name": "venv",
   "language": "python",
   "name": "python3"
  },
  "language_info": {
   "codemirror_mode": {
    "name": "ipython",
    "version": 3
   },
   "file_extension": ".py",
   "mimetype": "text/x-python",
   "name": "python",
   "nbconvert_exporter": "python",
   "pygments_lexer": "ipython3",
   "version": "3.12.1"
  }
 },
 "nbformat": 4,
 "nbformat_minor": 2
}
