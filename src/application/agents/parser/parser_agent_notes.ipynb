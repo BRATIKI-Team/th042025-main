{
 "cells": [
  {
   "cell_type": "code",
   "execution_count": 324,
   "metadata": {},
   "outputs": [],
   "source": [
    "import os\n",
    "from dotenv import load_dotenv\n",
    "\n",
    "load_dotenv()\n",
    "\n",
    "model_name = \"gpt-4o-mini\""
   ]
  },
  {
   "cell_type": "code",
   "execution_count": 311,
   "metadata": {},
   "outputs": [],
   "source": [
    "from datetime import datetime\n",
    "from typing import Any, Dict, Optional\n",
    "from pydantic import BaseModel, Field\n",
    "\n",
    "\n",
    "class MessageContentParserDto(BaseModel):\n",
    "    id: Optional[int] = Field(None, description=\"The unique identifier of the message\")\n",
    "    content: str = Field(..., description=\"The text content of the message\")\n"
   ]
  },
  {
   "cell_type": "code",
   "execution_count": 312,
   "metadata": {},
   "outputs": [
    {
     "data": {
      "text/plain": [
       "[MessageContentParserDto(id=12345, content='Москва встретила Пасху — тысячи православных жителей столицы встретили Светлый праздник в храмах'),\n",
       " MessageContentParserDto(id=67890, content='Специальная военная операция в России')]"
      ]
     },
     "execution_count": 312,
     "metadata": {},
     "output_type": "execute_result"
    }
   ],
   "source": [
    "message_instance = MessageContentParserDto(\n",
    "    id=12345,\n",
    "    content=\"Москва встретила Пасху — тысячи православных жителей столицы встретили Светлый праздник в храмах\",\n",
    ")\n",
    "\n",
    "svo_instant = MessageContentParserDto(\n",
    "    id=67890,\n",
    "    content=\"Специальная военная операция в России\"\n",
    ")\n",
    "\n",
    "messages = [\n",
    "    message_instance,\n",
    "    svo_instant\n",
    "]\n",
    "\n",
    "messages"
   ]
  },
  {
   "cell_type": "code",
   "execution_count": 313,
   "metadata": {},
   "outputs": [],
   "source": [
    "system_prompt = \"\"\"\n",
    "You are a message analyzer (You are also poliglot, and can understand russian, english, and some other languages).\n",
    "\n",
    "Follow these rules:\n",
    "\n",
    "1. You receive list of messages\n",
    "2. Each message consists of content, metadata, etc.\n",
    "3. Determine which of those messages are not relevant to the topic `{{topic}}`.\n",
    "4. Filter out messages that are relevant to the topic `{{topic}}`.\n",
    "\n",
    "### **Output Format**:\n",
    "Your response should be a list of messages, that you considered relevant to the topic `{{topic}}`.\n",
    "If no messages are relevant, return an empty list.\n",
    "\n",
    "The message is considered relevant if:\n",
    "- The message is directly related to the topic `{{topic}}`\n",
    "- The message discusses aspects or subtopics of the main topic `{{topic}}`\n",
    "- The message provides useful information or context about the topic `{{topic}}`\n",
    "\n",
    "The message is considered unrelevant if:\n",
    "- The message is completely unrelated to the topic `{{topic}}`\n",
    "- The message only mentions the topic in passing without meaningful content\n",
    "- The message is spam or contains irrelevant information\n",
    "\n",
    "DOUBLE CHECK YOUR ANSWER BEFORE RETURNING IT!!!\n",
    "\"\"\""
   ]
  },
  {
   "cell_type": "code",
   "execution_count": 314,
   "metadata": {},
   "outputs": [],
   "source": [
    "system_prompt_two=\"\"\" \n",
    "You will be given a list of messages.\n",
    "Each message contains a 'content' and 'id' fields.\n",
    "\n",
    "A message is considered relevant if the content contains the phrase \"{{topic}}\" or any closely related variations of it.\n",
    "\n",
    "Your task is to:\n",
    "1. Review the content of each message.\n",
    "2. Return the list of ids ofmessages that are relevant to the topic \"{{topic}}\".\n",
    "4. If there is no message with relevant content, return an empty list.\n",
    "\n",
    "The message is considered relevant if:\n",
    "- The message is directly related to the topic `{{topic}}`\n",
    "- The message discusses aspects or subtopics of the main topic `{{topic}}`\n",
    "- The message provides useful information or context about the topic `{{topic}}`\n",
    "\n",
    "The message is considered unrelevant if:\n",
    "- The message is completely unrelated to the topic `{{topic}}`\n",
    "- The message only mentions the topic in passing without meaningful content\n",
    "- The message is spam or contains irrelevant information\n",
    "\n",
    "### **Output Example**:\n",
    "Input (topic is \"Python programming language\"):\n",
    "[\n",
    "    {\n",
    "        \"id\": 1,\n",
    "        \"content\": \"Breaking: Python 3.12 released with major performance improvements! The latest version includes a new optimization for function calls, enhanced error messages, and better typing support. Early benchmarks show up to 20% faster execution in some scenarios. #python #programming #tech\",\n",
    "    },\n",
    "    {\n",
    "        \"id\": 2,\n",
    "        \"content\": \"BMW unveils new electric vehicle lineup for 2025! The luxury automaker announced revolutionary battery technology promising 500 mile range. New models feature advanced autonomous driving capabilities and sustainable materials. #BMW #EV #luxury\",\n",
    "    }\n",
    "]\n",
    "\n",
    "Return:\n",
    "[1]\n",
    "\"\"\""
   ]
  },
  {
   "cell_type": "code",
   "execution_count": 315,
   "metadata": {},
   "outputs": [],
   "source": [
    "from typing import List\n",
    "from pydantic_ai import Agent\n",
    "\n",
    "topic = \"Специальная военная операция в России\"\n",
    "system_prompt_formatted = system_prompt_two.replace(\"{{topic}}\", topic)\n",
    "\n",
    "agent = Agent(\n",
    "    model=model_name,\n",
    "    tools=[],\n",
    "    deps_type=str,\n",
    "    output_type=List[str],\n",
    "    system_prompt=system_prompt_formatted\n",
    ")\n"
   ]
  },
  {
   "cell_type": "code",
   "execution_count": 316,
   "metadata": {},
   "outputs": [
    {
     "data": {
      "text/plain": [
       "' \\nYou will be given a list of messages.\\nEach message contains a \\'content\\' and \\'id\\' fields.\\n\\nA message is considered relevant if the content contains the phrase \"Специальная военная операция в России\" or any closely related variations of it.\\n\\nYour task is to:\\n1. Review the content of each message.\\n2. Return the list of ids ofmessages that are relevant to the topic \"Специальная военная операция в России\".\\n4. If there is no message with relevant content, return an empty list.\\n\\nThe message is considered relevant if:\\n- The message is directly related to the topic `Специальная военная операция в России`\\n- The message discusses aspects or subtopics of the main topic `Специальная военная операция в России`\\n- The message provides useful information or context about the topic `Специальная военная операция в России`\\n\\nThe message is considered unrelevant if:\\n- The message is completely unrelated to the topic `Специальная военная операция в России`\\n- The message only mentions the topic in passing without meaningful content\\n- The message is spam or contains irrelevant information\\n\\n### **Output Example**:\\nInput (topic is \"Python programming language\"):\\n[\\n    {\\n        \"id\": 1,\\n        \"content\": \"Breaking: Python 3.12 released with major performance improvements! The latest version includes a new optimization for function calls, enhanced error messages, and better typing support. Early benchmarks show up to 20% faster execution in some scenarios. #python #programming #tech\",\\n    },\\n    {\\n        \"id\": 2,\\n        \"content\": \"BMW unveils new electric vehicle lineup for 2025! The luxury automaker announced revolutionary battery technology promising 500 mile range. New models feature advanced autonomous driving capabilities and sustainable materials. #BMW #EV #luxury\",\\n    }\\n]\\n\\nReturn:\\n[1]\\n'"
      ]
     },
     "execution_count": 316,
     "metadata": {},
     "output_type": "execute_result"
    }
   ],
   "source": [
    "system_prompt_formatted"
   ]
  },
  {
   "cell_type": "code",
   "execution_count": 317,
   "metadata": {},
   "outputs": [],
   "source": [
    "def datetime_handler(obj):\n",
    "    if isinstance(obj, datetime):\n",
    "        return obj.isoformat()\n",
    "    raise TypeError(\n",
    "        f\"Object of type {type(obj).__name__} is not JSON serializable\"\n",
    "    )"
   ]
  },
  {
   "cell_type": "code",
   "execution_count": 318,
   "metadata": {},
   "outputs": [
    {
     "data": {
      "text/plain": [
       "[MessageContentParserDto(id=12345, content='Москва встретила Пасху — тысячи православных жителей столицы встретили Светлый праздник в храмах'),\n",
       " MessageContentParserDto(id=67890, content='Специальная военная операция в России')]"
      ]
     },
     "execution_count": 318,
     "metadata": {},
     "output_type": "execute_result"
    }
   ],
   "source": [
    "import json\n",
    "\n",
    "message_parse_dtos = [MessageContentParserDto(id=message.id, content=message.content) for message in messages]\n",
    "message_parse_dtos"
   ]
  },
  {
   "cell_type": "code",
   "execution_count": 319,
   "metadata": {},
   "outputs": [
    {
     "data": {
      "text/plain": [
       "'[{\"id\": 12345, \"content\": \"\\\\u041c\\\\u043e\\\\u0441\\\\u043a\\\\u0432\\\\u0430 \\\\u0432\\\\u0441\\\\u0442\\\\u0440\\\\u0435\\\\u0442\\\\u0438\\\\u043b\\\\u0430 \\\\u041f\\\\u0430\\\\u0441\\\\u0445\\\\u0443 \\\\u2014 \\\\u0442\\\\u044b\\\\u0441\\\\u044f\\\\u0447\\\\u0438 \\\\u043f\\\\u0440\\\\u0430\\\\u0432\\\\u043e\\\\u0441\\\\u043b\\\\u0430\\\\u0432\\\\u043d\\\\u044b\\\\u0445 \\\\u0436\\\\u0438\\\\u0442\\\\u0435\\\\u043b\\\\u0435\\\\u0439 \\\\u0441\\\\u0442\\\\u043e\\\\u043b\\\\u0438\\\\u0446\\\\u044b \\\\u0432\\\\u0441\\\\u0442\\\\u0440\\\\u0435\\\\u0442\\\\u0438\\\\u043b\\\\u0438 \\\\u0421\\\\u0432\\\\u0435\\\\u0442\\\\u043b\\\\u044b\\\\u0439 \\\\u043f\\\\u0440\\\\u0430\\\\u0437\\\\u0434\\\\u043d\\\\u0438\\\\u043a \\\\u0432 \\\\u0445\\\\u0440\\\\u0430\\\\u043c\\\\u0430\\\\u0445\"}, {\"id\": 67890, \"content\": \"\\\\u0421\\\\u043f\\\\u0435\\\\u0446\\\\u0438\\\\u0430\\\\u043b\\\\u044c\\\\u043d\\\\u0430\\\\u044f \\\\u0432\\\\u043e\\\\u0435\\\\u043d\\\\u043d\\\\u0430\\\\u044f \\\\u043e\\\\u043f\\\\u0435\\\\u0440\\\\u0430\\\\u0446\\\\u0438\\\\u044f \\\\u0432 \\\\u0420\\\\u043e\\\\u0441\\\\u0441\\\\u0438\\\\u0438\"}]'"
      ]
     },
     "execution_count": 319,
     "metadata": {},
     "output_type": "execute_result"
    }
   ],
   "source": [
    "json = json.dumps([message.model_dump() for message in message_parse_dtos])\n",
    "json"
   ]
  },
  {
   "cell_type": "code",
   "execution_count": 320,
   "metadata": {},
   "outputs": [],
   "source": [
    "result = await agent.run(json)\n"
   ]
  },
  {
   "cell_type": "code",
   "execution_count": 321,
   "metadata": {},
   "outputs": [
    {
     "data": {
      "text/plain": [
       "['67890']"
      ]
     },
     "execution_count": 321,
     "metadata": {},
     "output_type": "execute_result"
    }
   ],
   "source": [
    "result.output"
   ]
  },
  {
   "cell_type": "code",
   "execution_count": 323,
   "metadata": {},
   "outputs": [
    {
     "data": {
      "text/plain": [
       "[MessageContentParserDto(id=67890, content='Специальная военная операция в России')]"
      ]
     },
     "execution_count": 323,
     "metadata": {},
     "output_type": "execute_result"
    }
   ],
   "source": [
    "output_messages = [\n",
    "                message for message in messages\n",
    "                if str(message.id) in result.output\n",
    "            ]\n",
    "\n",
    "output_messages"
   ]
  }
 ],
 "metadata": {
  "kernelspec": {
   "display_name": "venv",
   "language": "python",
   "name": "python3"
  },
  "language_info": {
   "codemirror_mode": {
    "name": "ipython",
    "version": 3
   },
   "file_extension": ".py",
   "mimetype": "text/x-python",
   "name": "python",
   "nbconvert_exporter": "python",
   "pygments_lexer": "ipython3",
   "version": "3.12.1"
  }
 },
 "nbformat": 4,
 "nbformat_minor": 2
}
