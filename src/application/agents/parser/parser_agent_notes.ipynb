{
 "cells": [
  {
   "cell_type": "code",
   "execution_count": 41,
   "metadata": {},
   "outputs": [],
   "source": [
    "import os\n",
    "from dotenv import load_dotenv\n",
    "\n",
    "load_dotenv()\n",
    "\n",
    "model_name = \"openai:gpt-4o-mini\"\n"
   ]
  },
  {
   "cell_type": "code",
   "execution_count": 42,
   "metadata": {},
   "outputs": [],
   "source": [
    "system_prompt = \"\"\"\n",
    "You are a message relevance analyzer.\n",
    "\n",
    "Follow these steps:\n",
    "1. Analyze the messages contents and metadatas.\n",
    "2. Determine which messages are relevant to the topic `{{topic}}`.\n",
    "3. Filter out the messages that are not relevant to the topic `{{topic}}`.\n",
    "4. Return the filtered messages.\n",
    "\n",
    "The message is considered as relevant if:\n",
    "- The message is directly related to the topic `{{topic}}`\n",
    "- The message discusses aspects or subtopics of the main topic `{{topic}}`\n",
    "- The message provides useful information or context about the topic `{{topic}}`\n",
    "\n",
    "The message is considered as unrelevant if:\n",
    "- The message is completely unrelated to the topic `{{topic}}`\n",
    "- The message only mentions the topic in passing without meaningful content\n",
    "- The message is spam or contains irrelevant information\n",
    "\n",
    "DOUBLE CHECK YOUR ANSWER BEFORE RETURNING IT!!!\n",
    "\"\"\""
   ]
  },
  {
   "cell_type": "code",
   "execution_count": 43,
   "metadata": {},
   "outputs": [],
   "source": [
    "from typing import Any, Dict\n",
    "from pydantic import BaseModel, Field\n",
    "\n",
    "\n",
    "class Message(BaseModel):\n",
    "    content: str = Field(..., description=\"The text content of the message\")\n",
    "    metadata: Dict[str, Any] = Field(\n",
    "        default_factory=dict,\n",
    "        description=\"Additional metadata about the message (e.g., timestamp, author, etc.)\"\n",
    "    )"
   ]
  },
  {
   "cell_type": "code",
   "execution_count": 44,
   "metadata": {},
   "outputs": [],
   "source": [
    "from typing import List\n",
    "\n",
    "\n",
    "topic = \"Programming\"\n",
    "messages: List[Message] = [] #init\n"
   ]
  },
  {
   "cell_type": "markdown",
   "metadata": {},
   "source": [
    "## Generating models about programming"
   ]
  },
  {
   "cell_type": "code",
   "execution_count": 45,
   "metadata": {},
   "outputs": [],
   "source": [
    "from datetime import datetime\n",
    "\n",
    "\n",
    "messages.append(Message(\n",
    "    content=\"The key to becoming a better programmer is consistency and practice. 💪 #Programming #Growth\",\n",
    "    metadata={\n",
    "        \"message_id\": 12345,\n",
    "        \"chat_id\": -987654321,\n",
    "        \"username\": \"JohnDoe_Dev\",\n",
    "        \"timestamp\": datetime.now().isoformat(),\n",
    "        \"date\": datetime.now().isoformat(),\n",
    "        \"author\": \"JohnDoe_Dev\",\n",
    "        \"topic\": \"Programming\",\n",
    "        \"channel\": \"TechTalks\"\n",
    "    }\n",
    "))\n",
    "\n",
    "messages.append(Message(\n",
    "    content=\"Mastering algorithms and data structures is fundamental to solving complex problems efficiently. 🧠 #Algorithms #DataStructures\",\n",
    "    metadata={\n",
    "        \"message_id\": 12346,\n",
    "        \"chat_id\": -987654321,\n",
    "        \"username\": \"Jane_Smith_Dev\",\n",
    "        \"timestamp\": datetime.now().isoformat(),\n",
    "        \"date\": datetime.now().isoformat(),\n",
    "        \"author\": \"Jane_Smith_Dev\",\n",
    "        \"topic\": \"Programming\",\n",
    "        \"channel\": \"CodeMasters\"\n",
    "    }\n",
    "))\n",
    "\n",
    "messages.append(Message(\n",
    "    content=\"Don't forget to document your code, it helps others (and your future self) understand it better. 📄 #CodingTips #Documentation\",\n",
    "    metadata={\n",
    "        \"message_id\": 12347,\n",
    "        \"chat_id\": -987654321,\n",
    "        \"username\": \"Alex_Johnson\",\n",
    "        \"timestamp\": datetime.now().isoformat(),\n",
    "        \"date\": datetime.now().isoformat(),\n",
    "        \"author\": \"Alex_Johnson\",\n",
    "        \"topic\": \"Programming\",\n",
    "        \"channel\": \"DevTalk\"\n",
    "    }\n",
    "))\n",
    "\n",
    "messages.append(Message(\n",
    "    content=\"Choosing the right programming language for the task can significantly reduce development time. ⏱️ #TechAdvice #ProgrammingLanguages\",\n",
    "    metadata={\n",
    "        \"message_id\": 12348,\n",
    "        \"chat_id\": -987654321,\n",
    "        \"username\": \"EmmaBrown_Dev\",\n",
    "        \"timestamp\": datetime.now().isoformat(),\n",
    "        \"date\": datetime.now().isoformat(),\n",
    "        \"author\": \"EmmaBrown_Dev\",\n",
    "        \"topic\": \"Programming\",\n",
    "        \"channel\": \"CodeInsiders\"\n",
    "    }\n",
    "))"
   ]
  },
  {
   "cell_type": "markdown",
   "metadata": {},
   "source": [
    "## Generating messages about another topics but programming"
   ]
  },
  {
   "cell_type": "code",
   "execution_count": 46,
   "metadata": {},
   "outputs": [],
   "source": [
    "messages.append(Message(\n",
    "    content=\"Start your day with a positive mindset, and everything will fall into place. 🌞 #Motivation #GoodVibes\",\n",
    "    metadata={\n",
    "        \"message_id\": 12349,\n",
    "        \"chat_id\": -987654322,\n",
    "        \"username\": \"PositiveVibes\",\n",
    "        \"timestamp\": datetime.now().isoformat(),\n",
    "        \"date\": datetime.now().isoformat(),\n",
    "        \"author\": \"PositiveVibes\",\n",
    "        \"topic\": \"Motivation\",\n",
    "        \"channel\": \"DailyInspiration\"\n",
    "    }\n",
    "))\n",
    "\n",
    "messages.append(Message(\n",
    "    content=\"Did you know? Drinking water is not just good for your body but also helps improve your skin. 💧 #HealthTips #SelfCare\",\n",
    "    metadata={\n",
    "        \"message_id\": 12350,\n",
    "        \"chat_id\": -987654323,\n",
    "        \"username\": \"HealthGuru\",\n",
    "        \"timestamp\": datetime.now().isoformat(),\n",
    "        \"date\": datetime.now().isoformat(),\n",
    "        \"author\": \"HealthGuru\",\n",
    "        \"topic\": \"Health\",\n",
    "        \"channel\": \"WellnessWorld\"\n",
    "    }\n",
    "))\n",
    "\n",
    "messages.append(Message(\n",
    "    content=\"The most memorable moments in life often come from the simplest things. Take a walk in nature today! 🌳 #LifeHacks #NatureLovers\",\n",
    "    metadata={\n",
    "        \"message_id\": 12351,\n",
    "        \"chat_id\": -987654324,\n",
    "        \"username\": \"NatureExplorer\",\n",
    "        \"timestamp\": datetime.now().isoformat(),\n",
    "        \"date\": datetime.now().isoformat(),\n",
    "        \"author\": \"NatureExplorer\",\n",
    "        \"topic\": \"Lifestyle\",\n",
    "        \"channel\": \"MindfulLiving\"\n",
    "    }\n",
    "))\n"
   ]
  },
  {
   "cell_type": "code",
   "execution_count": 51,
   "metadata": {},
   "outputs": [],
   "source": [
    "from pydantic_ai import Agent\n",
    "\n",
    "system_prompt_formatted = system_prompt.replace(\"{{topic}}\", topic)\n",
    "agent = Agent(\n",
    "    model=model_name,\n",
    "    tools=[],\n",
    "    deps_type=str,\n",
    "    output_type=List[Message],\n",
    "    system_prompt=system_prompt_formatted\n",
    ")"
   ]
  },
  {
   "cell_type": "code",
   "execution_count": 52,
   "metadata": {},
   "outputs": [],
   "source": [
    "import json\n",
    "\n",
    "\n",
    "messages_json = json.dumps([message.model_dump() for message in messages])\n"
   ]
  },
  {
   "cell_type": "code",
   "execution_count": 50,
   "metadata": {},
   "outputs": [
    {
     "data": {
      "text/plain": [
       "'[{\"content\": \"The key to becoming a better programmer is consistency and practice. \\\\ud83d\\\\udcaa #Programming #Growth\", \"metadata\": {\"message_id\": 12345, \"chat_id\": -987654321, \"username\": \"JohnDoe_Dev\", \"timestamp\": \"2025-04-19T10:28:14.500311\", \"date\": \"2025-04-19T10:28:14.500311\", \"author\": \"JohnDoe_Dev\", \"topic\": \"Programming\", \"channel\": \"TechTalks\"}}, {\"content\": \"Mastering algorithms and data structures is fundamental to solving complex problems efficiently. \\\\ud83e\\\\udde0 #Algorithms #DataStructures\", \"metadata\": {\"message_id\": 12346, \"chat_id\": -987654321, \"username\": \"Jane_Smith_Dev\", \"timestamp\": \"2025-04-19T10:28:14.500311\", \"date\": \"2025-04-19T10:28:14.500311\", \"author\": \"Jane_Smith_Dev\", \"topic\": \"Programming\", \"channel\": \"CodeMasters\"}}, {\"content\": \"Don\\'t forget to document your code, it helps others (and your future self) understand it better. \\\\ud83d\\\\udcc4 #CodingTips #Documentation\", \"metadata\": {\"message_id\": 12347, \"chat_id\": -987654321, \"username\": \"Alex_Johnson\", \"timestamp\": \"2025-04-19T10:28:14.500311\", \"date\": \"2025-04-19T10:28:14.500311\", \"author\": \"Alex_Johnson\", \"topic\": \"Programming\", \"channel\": \"DevTalk\"}}, {\"content\": \"Choosing the right programming language for the task can significantly reduce development time. \\\\u23f1\\\\ufe0f #TechAdvice #ProgrammingLanguages\", \"metadata\": {\"message_id\": 12348, \"chat_id\": -987654321, \"username\": \"EmmaBrown_Dev\", \"timestamp\": \"2025-04-19T10:28:14.500311\", \"date\": \"2025-04-19T10:28:14.500311\", \"author\": \"EmmaBrown_Dev\", \"topic\": \"Programming\", \"channel\": \"CodeInsiders\"}}, {\"content\": \"Start your day with a positive mindset, and everything will fall into place. \\\\ud83c\\\\udf1e #Motivation #GoodVibes\", \"metadata\": {\"message_id\": 12349, \"chat_id\": -987654322, \"username\": \"PositiveVibes\", \"timestamp\": \"2025-04-19T10:28:14.509972\", \"date\": \"2025-04-19T10:28:14.509972\", \"author\": \"PositiveVibes\", \"topic\": \"Motivation\", \"channel\": \"DailyInspiration\"}}, {\"content\": \"Did you know? Drinking water is not just good for your body but also helps improve your skin. \\\\ud83d\\\\udca7 #HealthTips #SelfCare\", \"metadata\": {\"message_id\": 12350, \"chat_id\": -987654323, \"username\": \"HealthGuru\", \"timestamp\": \"2025-04-19T10:28:14.509972\", \"date\": \"2025-04-19T10:28:14.509972\", \"author\": \"HealthGuru\", \"topic\": \"Health\", \"channel\": \"WellnessWorld\"}}, {\"content\": \"The most memorable moments in life often come from the simplest things. Take a walk in nature today! \\\\ud83c\\\\udf33 #LifeHacks #NatureLovers\", \"metadata\": {\"message_id\": 12351, \"chat_id\": -987654324, \"username\": \"NatureExplorer\", \"timestamp\": \"2025-04-19T10:28:14.509972\", \"date\": \"2025-04-19T10:28:14.509972\", \"author\": \"NatureExplorer\", \"topic\": \"Lifestyle\", \"channel\": \"MindfulLiving\"}}]'"
      ]
     },
     "execution_count": 50,
     "metadata": {},
     "output_type": "execute_result"
    }
   ],
   "source": [
    "messages_json"
   ]
  },
  {
   "cell_type": "code",
   "execution_count": 53,
   "metadata": {},
   "outputs": [
    {
     "data": {
      "text/plain": [
       "[Message(content='The key to becoming a better programmer is consistency and practice. \\x01f4aa #Programming #Growth', metadata={}),\n",
       " Message(content='Mastering algorithms and data structures is fundamental to solving complex problems efficiently. \\x001f9ee #Algorithms #DataStructures', metadata={}),\n",
       " Message(content=\"Don't forget to document your code, it helps others (and your future self) understand it better. \\x001f4c4 #CodingTips #Documentation\", metadata={}),\n",
       " Message(content='Choosing the right programming language for the task can significantly reduce development time. ⏱️ #TechAdvice #ProgrammingLanguages', metadata={})]"
      ]
     },
     "execution_count": 53,
     "metadata": {},
     "output_type": "execute_result"
    }
   ],
   "source": [
    "result = await agent.run(messages_json)\n",
    "result.output\n"
   ]
  }
 ],
 "metadata": {
  "kernelspec": {
   "display_name": "venv",
   "language": "python",
   "name": "python3"
  },
  "language_info": {
   "codemirror_mode": {
    "name": "ipython",
    "version": 3
   },
   "file_extension": ".py",
   "mimetype": "text/x-python",
   "name": "python",
   "nbconvert_exporter": "python",
   "pygments_lexer": "ipython3",
   "version": "3.12.1"
  }
 },
 "nbformat": 4,
 "nbformat_minor": 2
}
