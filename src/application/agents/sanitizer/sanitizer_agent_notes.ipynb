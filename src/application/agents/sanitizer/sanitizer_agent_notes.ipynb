{
 "cells": [
  {
   "cell_type": "code",
   "execution_count": 2,
   "metadata": {},
   "outputs": [],
   "source": [
    "import os\n",
    "from dotenv import load_dotenv\n",
    "\n",
    "load_dotenv()\n",
    "\n",
    "model_name = \"openai:gpt-4o-mini\"\n"
   ]
  },
  {
   "cell_type": "code",
   "execution_count": 2,
   "metadata": {},
   "outputs": [],
   "source": [
    "import chromadb\n",
    "\n",
    "\n",
    "chroma_db = chromadb.PersistentClient(path=\"db/chromadb\")"
   ]
  },
  {
   "cell_type": "code",
   "execution_count": 3,
   "metadata": {},
   "outputs": [],
   "source": [
    "from typing import List\n",
    "from pydantic import BaseModel, Field\n",
    "\n",
    "\n",
    "class SummaryDto(BaseModel):\n",
    "    \"\"\"Represents a summary with the title, content, and metadata.\"\"\"\n",
    "\n",
    "    title: str = Field(\n",
    "        ..., description=\"Title of the summary\", example=\"Rosneft announced dividend payment\"\n",
    "    )\n",
    "    content: str = Field(\n",
    "        ...,\n",
    "        description=\"Main content of the summary, providing a concise overview\",\n",
    "        example=\"A robotic dog with a rabbit and a minigun is a new word in home security. A Chinese enthusiast has created an unusual hybrid, where a cute animal has become part of the combat system. Now this mecha-hare not only looks threatening, but also effectively performs its task, monitoring the yard.\",\n",
    "    )\n",
    "    metadata: dict = Field(\n",
    "        ...,\n",
    "        description=\"Additional metadata related to the summary, such as the source\",\n",
    "        example={\"source\": \"https://www.google.com\"},\n",
    "    )\n"
   ]
  },
  {
   "cell_type": "code",
   "execution_count": 4,
   "metadata": {},
   "outputs": [],
   "source": [
    "summaries: List[SummaryDto] = [\n",
    "    SummaryDto(\n",
    "        title=\"Rosneft Announces Dividend Payment\",\n",
    "        content=\"Rosneft has declared a payment of dividends to its shareholders, highlighting its strong financial performance in the last quarter. The company's strategy to maintain stable earnings despite fluctuating oil prices has been praised by investors.\",\n",
    "        metadata={\"source\": \"https://www.rosneft.com/press/releases/2023/rosneft-announces-dividend-payment\"}\n",
    "    ),\n",
    "    SummaryDto(\n",
    "        title=\"AI Revolutionizes Home Security with Robotic Dogs\",\n",
    "        content=\"A Chinese innovator has unveiled a robotic dog equipped with advanced surveillance capabilities and a combat system. This 'mecha-hare' is designed to offer both home security and a futuristic twist to traditional surveillance methods.\",\n",
    "        metadata={\"source\": \"https://www.techcrunch.com/ai-robotic-dog-home-security\"}\n",
    "    ),\n",
    "    SummaryDto(\n",
    "        title=\"New Vaccination Guidelines Issued Amid COVID-19 Surge\",\n",
    "        content=\"The World Health Organization has updated its COVID-19 vaccination guidelines, recommending booster shots for high-risk groups. The new guidelines come in response to a spike in cases in several countries.\",\n",
    "        metadata={\"source\": \"https://www.who.int/news-room/press-releases/2023/new-vaccination-guidelines\"}\n",
    "    ),\n",
    "    SummaryDto(\n",
    "        title=\"Tesla to Launch Full Self-Driving Cars by 2025\",\n",
    "        content=\"Tesla has announced plans to roll out fully autonomous vehicles by 2025. The new technology is expected to revolutionize the automotive industry and potentially reduce road accidents caused by human error.\",\n",
    "        metadata={\"source\": \"https://www.cnbc.com/2023/09/tesla-full-self-driving-launch\"}\n",
    "    ),\n",
    "    SummaryDto(\n",
    "        title=\"NASA Discovers Water on Mars\",\n",
    "        content=\"NASA's latest mission has confirmed the presence of liquid water beneath the surface of Mars. This discovery is a significant step toward understanding the potential for life on the Red Planet.\",\n",
    "        metadata={\"source\": \"https://www.nasa.gov/press-release/nasa-discovers-water-on-mars\"}\n",
    "    ),\n",
    "    SummaryDto(\n",
    "        title=\"Microsoft Acquires GitHub for $7.5 Billion\",\n",
    "        content=\"Microsoft has completed its acquisition of GitHub, a popular code hosting platform. This deal is part of Microsoft's strategy to strengthen its developer tools and cloud services offerings.\",\n",
    "        metadata={\"source\": \"https://www.microsoft.com/en-us/news/press/2023/microsoft-acquires-github\"}\n",
    "    ),\n",
    "    SummaryDto(\n",
    "        title=\"Apple Introduces New AR Glasses at WWDC 2023\",\n",
    "        content=\"Apple has unveiled its latest product, AR Glasses, during the Worldwide Developers Conference (WWDC) 2023. The glasses are designed to enhance the augmented reality experience and are expected to be a game-changer in wearable technology.\",\n",
    "        metadata={\"source\": \"https://www.apple.com/newsroom/2023/wwdc-2023-ar-glasses\"}\n",
    "    ),\n",
    "    SummaryDto(\n",
    "        title=\"Global Food Crisis Expected to Worsen in 2024\",\n",
    "        content=\"The United Nations has warned that the global food crisis is likely to worsen in 2024 due to ongoing conflicts, climate change, and supply chain disruptions. The organization is calling for urgent action to address the rising hunger levels.\",\n",
    "        metadata={\"source\": \"https://www.un.org/en/food-crisis-2024-warning\"}\n",
    "    ),\n",
    "    SummaryDto(\n",
    "        title=\"Amazon Launches Drone Delivery Service\",\n",
    "        content=\"Amazon has officially launched its drone delivery service, allowing customers to receive packages within hours of ordering. The new service is expected to transform the logistics industry and reduce delivery times dramatically.\",\n",
    "        metadata={\"source\": \"https://www.amazon.com/press-release/drone-delivery-launch\"}\n",
    "    ),\n",
    "    SummaryDto(\n",
    "        title=\"China's New Space Station to Host International Research\",\n",
    "        content=\"China's space station, Tiangong, is now open to international scientists for research opportunities. The station is expected to be a key player in advancing space exploration and scientific discovery.\",\n",
    "        metadata={\"source\": \"https://www.space.com/china-new-space-station-research\"}\n",
    "    ),\n",
    "]"
   ]
  },
  {
   "cell_type": "code",
   "execution_count": 5,
   "metadata": {},
   "outputs": [
    {
     "data": {
      "text/plain": [
       "[TextNode(id_='e938f6cb-6e93-499d-bf04-e31fabcbfcf9', embedding=None, metadata={'title': 'Rosneft Announces Dividend Payment', 'source': 'https://www.rosneft.com/press/releases/2023/rosneft-announces-dividend-payment'}, excluded_embed_metadata_keys=[], excluded_llm_metadata_keys=[], relationships={}, metadata_template='{key}: {value}', metadata_separator='\\n', text=\"Rosneft Announces Dividend Payment\\n\\nRosneft has declared a payment of dividends to its shareholders, highlighting its strong financial performance in the last quarter. The company's strategy to maintain stable earnings despite fluctuating oil prices has been praised by investors.\", mimetype='text/plain', start_char_idx=None, end_char_idx=None, metadata_seperator='\\n', text_template='{metadata_str}\\n\\n{content}'),\n",
       " TextNode(id_='4d1a060f-885d-4400-87d4-d6d4de5b967d', embedding=None, metadata={'title': 'AI Revolutionizes Home Security with Robotic Dogs', 'source': 'https://www.techcrunch.com/ai-robotic-dog-home-security'}, excluded_embed_metadata_keys=[], excluded_llm_metadata_keys=[], relationships={}, metadata_template='{key}: {value}', metadata_separator='\\n', text=\"AI Revolutionizes Home Security with Robotic Dogs\\n\\nA Chinese innovator has unveiled a robotic dog equipped with advanced surveillance capabilities and a combat system. This 'mecha-hare' is designed to offer both home security and a futuristic twist to traditional surveillance methods.\", mimetype='text/plain', start_char_idx=None, end_char_idx=None, metadata_seperator='\\n', text_template='{metadata_str}\\n\\n{content}'),\n",
       " TextNode(id_='83c1944e-9c7e-4573-b69a-6fa90bcf7434', embedding=None, metadata={'title': 'New Vaccination Guidelines Issued Amid COVID-19 Surge', 'source': 'https://www.who.int/news-room/press-releases/2023/new-vaccination-guidelines'}, excluded_embed_metadata_keys=[], excluded_llm_metadata_keys=[], relationships={}, metadata_template='{key}: {value}', metadata_separator='\\n', text='New Vaccination Guidelines Issued Amid COVID-19 Surge\\n\\nThe World Health Organization has updated its COVID-19 vaccination guidelines, recommending booster shots for high-risk groups. The new guidelines come in response to a spike in cases in several countries.', mimetype='text/plain', start_char_idx=None, end_char_idx=None, metadata_seperator='\\n', text_template='{metadata_str}\\n\\n{content}'),\n",
       " TextNode(id_='036edb03-097c-4ebf-ad97-f3ed80a1e999', embedding=None, metadata={'title': 'Tesla to Launch Full Self-Driving Cars by 2025', 'source': 'https://www.cnbc.com/2023/09/tesla-full-self-driving-launch'}, excluded_embed_metadata_keys=[], excluded_llm_metadata_keys=[], relationships={}, metadata_template='{key}: {value}', metadata_separator='\\n', text='Tesla to Launch Full Self-Driving Cars by 2025\\n\\nTesla has announced plans to roll out fully autonomous vehicles by 2025. The new technology is expected to revolutionize the automotive industry and potentially reduce road accidents caused by human error.', mimetype='text/plain', start_char_idx=None, end_char_idx=None, metadata_seperator='\\n', text_template='{metadata_str}\\n\\n{content}'),\n",
       " TextNode(id_='83a6ca71-81e8-4fbc-8eec-8e60f1ebb503', embedding=None, metadata={'title': 'NASA Discovers Water on Mars', 'source': 'https://www.nasa.gov/press-release/nasa-discovers-water-on-mars'}, excluded_embed_metadata_keys=[], excluded_llm_metadata_keys=[], relationships={}, metadata_template='{key}: {value}', metadata_separator='\\n', text=\"NASA Discovers Water on Mars\\n\\nNASA's latest mission has confirmed the presence of liquid water beneath the surface of Mars. This discovery is a significant step toward understanding the potential for life on the Red Planet.\", mimetype='text/plain', start_char_idx=None, end_char_idx=None, metadata_seperator='\\n', text_template='{metadata_str}\\n\\n{content}'),\n",
       " TextNode(id_='8368bd53-d00d-41e6-81b3-165a35731d82', embedding=None, metadata={'title': 'Microsoft Acquires GitHub for $7.5 Billion', 'source': 'https://www.microsoft.com/en-us/news/press/2023/microsoft-acquires-github'}, excluded_embed_metadata_keys=[], excluded_llm_metadata_keys=[], relationships={}, metadata_template='{key}: {value}', metadata_separator='\\n', text=\"Microsoft Acquires GitHub for $7.5 Billion\\n\\nMicrosoft has completed its acquisition of GitHub, a popular code hosting platform. This deal is part of Microsoft's strategy to strengthen its developer tools and cloud services offerings.\", mimetype='text/plain', start_char_idx=None, end_char_idx=None, metadata_seperator='\\n', text_template='{metadata_str}\\n\\n{content}'),\n",
       " TextNode(id_='512a90dd-797b-4a82-8d28-e19838bbe858', embedding=None, metadata={'title': 'Apple Introduces New AR Glasses at WWDC 2023', 'source': 'https://www.apple.com/newsroom/2023/wwdc-2023-ar-glasses'}, excluded_embed_metadata_keys=[], excluded_llm_metadata_keys=[], relationships={}, metadata_template='{key}: {value}', metadata_separator='\\n', text='Apple Introduces New AR Glasses at WWDC 2023\\n\\nApple has unveiled its latest product, AR Glasses, during the Worldwide Developers Conference (WWDC) 2023. The glasses are designed to enhance the augmented reality experience and are expected to be a game-changer in wearable technology.', mimetype='text/plain', start_char_idx=None, end_char_idx=None, metadata_seperator='\\n', text_template='{metadata_str}\\n\\n{content}'),\n",
       " TextNode(id_='f68e2374-c76d-4e7c-a46d-e9448d335184', embedding=None, metadata={'title': 'Global Food Crisis Expected to Worsen in 2024', 'source': 'https://www.un.org/en/food-crisis-2024-warning'}, excluded_embed_metadata_keys=[], excluded_llm_metadata_keys=[], relationships={}, metadata_template='{key}: {value}', metadata_separator='\\n', text='Global Food Crisis Expected to Worsen in 2024\\n\\nThe United Nations has warned that the global food crisis is likely to worsen in 2024 due to ongoing conflicts, climate change, and supply chain disruptions. The organization is calling for urgent action to address the rising hunger levels.', mimetype='text/plain', start_char_idx=None, end_char_idx=None, metadata_seperator='\\n', text_template='{metadata_str}\\n\\n{content}'),\n",
       " TextNode(id_='63f67dc5-f549-4e06-97ce-c9c20b4bab08', embedding=None, metadata={'title': 'Amazon Launches Drone Delivery Service', 'source': 'https://www.amazon.com/press-release/drone-delivery-launch'}, excluded_embed_metadata_keys=[], excluded_llm_metadata_keys=[], relationships={}, metadata_template='{key}: {value}', metadata_separator='\\n', text='Amazon Launches Drone Delivery Service\\n\\nAmazon has officially launched its drone delivery service, allowing customers to receive packages within hours of ordering. The new service is expected to transform the logistics industry and reduce delivery times dramatically.', mimetype='text/plain', start_char_idx=None, end_char_idx=None, metadata_seperator='\\n', text_template='{metadata_str}\\n\\n{content}'),\n",
       " TextNode(id_='1d92a59d-b05b-4d15-b1e6-2df85276e5fe', embedding=None, metadata={'title': \"China's New Space Station to Host International Research\", 'source': 'https://www.space.com/china-new-space-station-research'}, excluded_embed_metadata_keys=[], excluded_llm_metadata_keys=[], relationships={}, metadata_template='{key}: {value}', metadata_separator='\\n', text=\"China's New Space Station to Host International Research\\n\\nChina's space station, Tiangong, is now open to international scientists for research opportunities. The station is expected to be a key player in advancing space exploration and scientific discovery.\", mimetype='text/plain', start_char_idx=None, end_char_idx=None, metadata_seperator='\\n', text_template='{metadata_str}\\n\\n{content}')]"
      ]
     },
     "execution_count": 5,
     "metadata": {},
     "output_type": "execute_result"
    }
   ],
   "source": [
    "import uuid\n",
    "from llama_index.core import Document\n",
    "from llama_index.core.schema import TextNode\n",
    "\n",
    "bot_id = \"12sdfsdfsdf123123213213\"\n",
    "text_nodes = []\n",
    "\n",
    "for summary in summaries:\n",
    "    text=f\"{summary.title}\\n\\n{summary.content}\"\n",
    "    metadata = {\"title\": summary.title}\n",
    "    metadata.update(summary.metadata)\n",
    "    text_node = TextNode(text=text, metadata=metadata)\n",
    "    text_nodes.append(text_node)\n",
    "text_nodes"
   ]
  },
  {
   "cell_type": "code",
   "execution_count": 6,
   "metadata": {},
   "outputs": [],
   "source": [
    "from llama_index.core import StorageContext, VectorStoreIndex\n",
    "\n",
    "vector_store = chroma_db.get_or_create_collection(bot_id)\n",
    "\n"
   ]
  },
  {
   "cell_type": "code",
   "execution_count": 7,
   "metadata": {},
   "outputs": [],
   "source": [
    "storage_context = StorageContext.from_defaults(vector_store=vector_store)"
   ]
  },
  {
   "cell_type": "code",
   "execution_count": 9,
   "metadata": {},
   "outputs": [],
   "source": [
    "import nest_asyncio\n",
    "nest_asyncio.apply()"
   ]
  },
  {
   "cell_type": "code",
   "execution_count": 10,
   "metadata": {},
   "outputs": [],
   "source": [
    "index = VectorStoreIndex(text_nodes, storage_context)\n"
   ]
  },
  {
   "cell_type": "code",
   "execution_count": null,
   "metadata": {},
   "outputs": [],
   "source": []
  }
 ],
 "metadata": {
  "kernelspec": {
   "display_name": "venv",
   "language": "python",
   "name": "python3"
  },
  "language_info": {
   "codemirror_mode": {
    "name": "ipython",
    "version": 3
   },
   "file_extension": ".py",
   "mimetype": "text/x-python",
   "name": "python",
   "nbconvert_exporter": "python",
   "pygments_lexer": "ipython3",
   "version": "3.12.1"
  }
 },
 "nbformat": 4,
 "nbformat_minor": 2
}
